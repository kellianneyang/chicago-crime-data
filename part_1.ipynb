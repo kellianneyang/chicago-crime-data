{
 "cells": [
  {
   "cell_type": "markdown",
   "id": "10c43d3c",
   "metadata": {
    "heading_collapsed": true
   },
   "source": [
    "# Chicago Crime Data Project: Part 1"
   ]
  },
  {
   "cell_type": "markdown",
   "id": "632dadee",
   "metadata": {
    "hidden": true
   },
   "source": [
    "**Steps:**\n",
    "\n",
    "1. Use data from the Chicago Data Portal: Crimes 2001 to Present, which includes type of crime, date/time, lat/long, District/ward, arrests, etc.\n",
    "    - https://data.cityofchicago.org/Public-Safety/Crimes-2001-to-Present/ijzp-q8t2\n",
    "\n",
    "2. Use this data processing helper notebook to process large Chicago crime data .csv into several smaller .csv.gz files for analysis.\n",
    "    - https://github.com/coding-dojo-data-science/preparing-chicago-crime-data\n",
    "\n",
    "3. Answer several questions about the data. Questions:\n",
    "    - (1) Comparing Police Districts: \n",
    "        - (A) Which district has the most crimes? \n",
    "        - (B) Which has the least?\n",
    "    - (2) Crimes Across the Years:\n",
    "        - (A) Is the total number of crimes increasing or decreasing across the years?\n",
    "        - (B) Are there any individual crimes that are doing the opposite (i.e., decreasing when orverall crime is increasing or vice-versa)?\n",
    "    - (3) Comparing AM vs. PM Rush Hour:\n",
    "        - (A) Are crimes more common during AM rush hour or PM rush hour? Consider 7am-10am and 4pm-7pm as rush hours.\n",
    "        - (B) What are the top 5 most common crimes during AM rush hour? What are the top 5 most common crimes during PM rush hour?\n",
    "        - (C) Are MOtor Vehicle Thefts more common during AM rush hour or PM rush hour?\n",
    "    - (4) Comparing Months:\n",
    "        - (A) What months have the most crime? What months have the least?\n",
    "        - (B) Are there any individual crimes that do not follow this pattern? If so, which crimes?\n",
    "    - (5) Comparing Holidays:\n",
    "        - (A) Are there any holidays that show an increase in the number of crimes?\n",
    "        - (B) Are there any holidays that show a decrease in the number of crimes?"
   ]
  },
  {
   "cell_type": "markdown",
   "id": "e2b35b7f",
   "metadata": {
    "heading_collapsed": true
   },
   "source": [
    "# 1 Imports"
   ]
  },
  {
   "cell_type": "code",
   "execution_count": 2,
   "id": "21a74c7f",
   "metadata": {
    "hidden": true
   },
   "outputs": [],
   "source": [
    "# imports\n",
    "import pandas as pd"
   ]
  },
  {
   "cell_type": "markdown",
   "id": "2c76d2aa",
   "metadata": {},
   "source": [
    "# 2 Data Preparation"
   ]
  },
  {
   "cell_type": "markdown",
   "id": "5c0d85ea",
   "metadata": {},
   "source": [
    "I downloaded the raw data from the Chicago Data Portal and processed it with the helper notebook in this repository. Here I will import the data that was saved in this repository and concatenate it back into one full dataframe. There is one saved .csv file for each year from 2001 to 2023 (inclusive)."
   ]
  },
  {
   "cell_type": "code",
   "execution_count": null,
   "id": "f0f857f4",
   "metadata": {},
   "outputs": [],
   "source": [
    "# import data into variables\n",
    "def import_files():\n",
    "    \"\"\"Reads in .csv files from Data folder and names them\n",
    "    dynamically with appropriate year\"\"\"\n",
    "    \n",
    "    # set file name template and years to use in file names\n",
    "    file_name_template = \"file_name_{}\"\n",
    "    years = range(2001, 2024)"
   ]
  }
 ],
 "metadata": {
  "kernelspec": {
   "display_name": "Python (dojo-env)",
   "language": "python",
   "name": "dojo-env"
  },
  "language_info": {
   "codemirror_mode": {
    "name": "ipython",
    "version": 3
   },
   "file_extension": ".py",
   "mimetype": "text/x-python",
   "name": "python",
   "nbconvert_exporter": "python",
   "pygments_lexer": "ipython3",
   "version": "3.9.15"
  },
  "toc": {
   "base_numbering": 1,
   "nav_menu": {},
   "number_sections": false,
   "sideBar": true,
   "skip_h1_title": false,
   "title_cell": "Table of Contents",
   "title_sidebar": "Contents",
   "toc_cell": false,
   "toc_position": {},
   "toc_section_display": true,
   "toc_window_display": false
  }
 },
 "nbformat": 4,
 "nbformat_minor": 5
}
